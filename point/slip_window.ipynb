{
 "cells": [
  {
   "cell_type": "code",
   "execution_count": null,
   "id": "7115b843",
   "metadata": {},
   "outputs": [],
   "source": [
    "# 209. 长度最小的子数组\n",
    "\n",
    "# 给定一个含有 n 个正整数的数组和一个正整数 target。\n",
    "# 找出该数组中满足其总和大于等于 target 的长度最小的子数组 [numsl, numsl+1, ..., numsr-1, numsr], 并返回其长度。\n",
    "# 如果不存在符合条件的子数组，返回 0 。\n",
    "\n",
    "# 示例 1：\n",
    "# 输入：target = 7, nums = [2,3,1,2,4,3]\n",
    "# 输出：2\n",
    "# 解释：子数组 [4,3] 是该条件下的长度最小的子数组。\n",
    "\n",
    "# 示例 2：\n",
    "# 输入：target = 4, nums = [1,4,4]\n",
    "# 输出：1\n",
    "\n",
    "# 示例 3：\n",
    "# 输入：target = 11, nums = [1,1,1,1,1,1,1,1]\n",
    "# 输出：0"
   ]
  },
  {
   "cell_type": "code",
   "execution_count": 3,
   "id": "8a1b5c9a",
   "metadata": {},
   "outputs": [
    {
     "name": "stdout",
     "output_type": "stream",
     "text": [
      "2\n",
      "1\n",
      "0\n"
     ]
    }
   ],
   "source": [
    "def minSubArrayLen(target, nums):\n",
    "    if len(nums) == 0:\n",
    "        return 0\n",
    "    i = 0\n",
    "    result = len(nums) + 1\n",
    "    current_sum = 0\n",
    "    # 后指针\n",
    "    for j in range(len(nums)):\n",
    "        current_sum += nums[j]\n",
    "        # 前指针\n",
    "        while current_sum >= target:\n",
    "            result = min(result, j - i + 1)\n",
    "            current_sum -= nums[i]\n",
    "            i += 1\n",
    "    return result if result != len(nums) + 1 else 0\n",
    "\n",
    "target1 = 7\n",
    "nums1 = [2,3,1,2,4,3]\n",
    "print(minSubArrayLen(target1, nums1))\n",
    "target2 = 4\n",
    "nums2 = [1,4,4]\n",
    "print(minSubArrayLen(target2, nums2))\n",
    "target3 = 11\n",
    "nums3 = [1,1,1,1,1,1,1,1]\n",
    "print(minSubArrayLen(target3, nums3))"
   ]
  },
  {
   "cell_type": "code",
   "execution_count": null,
   "id": "b75195bf",
   "metadata": {},
   "outputs": [],
   "source": [
    "# 904. 水果成篮\n",
    "\n",
    "# 你正在探访一家农场，农场从左到右种植了一排果树。这些树用一个整数数组 fruits 表示，\n",
    "# 其中 fruits[i] 是第 i 棵树上的水果种类 。\n",
    "\n",
    "# 你想要尽可能多地收集水果。然而，农场的主人设定了一些严格的规矩，你必须按照要求采摘水果：\n",
    "\n",
    "# 你只有 两个 篮子，并且每个篮子只能装 单一类型 的水果。每个篮子能够装的水果总量没有限制。\n",
    "# 你可以选择任意一棵树开始采摘，你必须从 每棵树（包括开始采摘的树）上恰好摘一个水果。\n",
    "# 采摘的水果应当符合篮子中的水果类型。每采摘一次，你将会向右移动到下一棵树，并继续采摘。\n",
    "# 一旦你走到某棵树前，但水果不符合篮子的水果类型，那么就必须停止采摘。\n",
    "# 给你一个整数数组 fruits ，返回你可以收集的水果的最大数目。\n",
    "\n",
    "# 示例 1：\n",
    "# 输入：fruits = [1,2,1]\n",
    "# 输出：3\n",
    "# 解释：可以采摘全部 3 棵树。\n",
    "\n",
    "# 示例 2：\n",
    "# 输入：fruits = [0,1,2,2]\n",
    "# 输出：3\n",
    "# 解释：可以采摘 [1,2,2] 这三棵树。\n",
    "# 如果从第一棵树开始采摘，则只能采摘 [0,1] 这两棵树。\n",
    "\n",
    "# 示例 3：\n",
    "# 输入：fruits = [1,2,3,2,2]\n",
    "# 输出：4\n",
    "# 解释：可以采摘 [2,3,2,2] 这四棵树。\n",
    "# 如果从第一棵树开始采摘，则只能采摘 [1,2] 这两棵树。\n",
    "\n",
    "# 示例 4：\n",
    "# 输入：fruits = [3,3,3,1,2,1,1,2,3,3,4]\n",
    "# 输出：5\n",
    "# 解释：可以采摘 [1,2,1,1,2] 这五棵树。"
   ]
  },
  {
   "cell_type": "code",
   "execution_count": 6,
   "id": "fcc50efb",
   "metadata": {},
   "outputs": [
    {
     "name": "stdout",
     "output_type": "stream",
     "text": [
      "3\n",
      "3\n",
      "4\n",
      "5\n"
     ]
    }
   ],
   "source": [
    "def totalFruit(fruits):\n",
    "    # set无顺序\n",
    "    # bucket = set()\n",
    "    bucket = dict()\n",
    "    i = 0\n",
    "    max_fruits = 0\n",
    "    for j in range(len(fruits)):\n",
    "        bucket[fruits[j]] = bucket.get(fruits[j], 0) + 1\n",
    "        while len(bucket) > 2:\n",
    "            bucket[fruits[i]] -= 1\n",
    "            if bucket[fruits[i]] == 0:\n",
    "                bucket.pop(fruits[i])\n",
    "            i += 1\n",
    "        max_fruits = max(max_fruits, j - i + 1)\n",
    "    return max_fruits\n",
    "\n",
    "fruits1 = [1,2,1]\n",
    "print(totalFruit(fruits1))\n",
    "fruits2 = [0,1,2,2]\n",
    "print(totalFruit(fruits2))\n",
    "fruits3 = [1,2,3,2,2]\n",
    "print(totalFruit(fruits3))\n",
    "fruits4 = [3,3,3,1,2,1,1,2,3,3,4]\n",
    "print(totalFruit(fruits4))"
   ]
  },
  {
   "cell_type": "code",
   "execution_count": null,
   "id": "53a61cfe",
   "metadata": {},
   "outputs": [],
   "source": [
    "# 3. 无重复字符的最长子串\n",
    "# 给定一个字符串 s ，请你找出其中不含有重复字符的 最长 子串 的长度。\n",
    "\n",
    "# 示例 1:\n",
    "# 输入: s = \"abcabcbb\"\n",
    "# 输出: 3 \n",
    "# 解释: 因为无重复字符的最长子串是 \"abc\"，所以其长度为 3。\n",
    "\n",
    "# 示例 2:\n",
    "# 输入: s = \"bbbbb\"\n",
    "# 输出: 1\n",
    "# 解释: 因为无重复字符的最长子串是 \"b\"，所以其长度为 1。\n",
    "\n",
    "# 示例 3:\n",
    "# 输入: s = \"pwwkew\"\n",
    "# 输出: 3\n",
    "# 解释: 因为无重复字符的最长子串是 \"wke\"，所以其长度为 3。\n",
    "# 请注意，你的答案必须是 子串 的长度，\"pwke\" 是一个子序列，不是子串。"
   ]
  },
  {
   "cell_type": "code",
   "execution_count": 7,
   "id": "5e7bf8cf",
   "metadata": {},
   "outputs": [
    {
     "data": {
      "text/plain": [
       "3"
      ]
     },
     "execution_count": 7,
     "metadata": {},
     "output_type": "execute_result"
    }
   ],
   "source": [
    "def lengthOfLongestSubstring(s: str) -> int:\n",
    "    current_count = 0\n",
    "    lstr = []\n",
    "    for i in range(len(s)):\n",
    "        if lstr == []:\n",
    "            lstr.append(s[i])\n",
    "        index = 0\n",
    "        while index < len(lstr):\n",
    "            if s[i] == lstr[index]:\n",
    "                current_count = max(current_count, len(lstr))\n",
    "                lstr = lstr[index + 1:]\n",
    "                break\n",
    "            index += 1\n",
    "        lstr.append(s[i])\n",
    "    return max(current_count, len(lstr))\n",
    "\n",
    "s = \"pwwkew\"\n",
    "lengthOfLongestSubstring(s)"
   ]
  }
 ],
 "metadata": {
  "kernelspec": {
   "display_name": "Python 3",
   "language": "python",
   "name": "python3"
  },
  "language_info": {
   "codemirror_mode": {
    "name": "ipython",
    "version": 3
   },
   "file_extension": ".py",
   "mimetype": "text/x-python",
   "name": "python",
   "nbconvert_exporter": "python",
   "pygments_lexer": "ipython3",
   "version": "3.13.1"
  }
 },
 "nbformat": 4,
 "nbformat_minor": 5
}
