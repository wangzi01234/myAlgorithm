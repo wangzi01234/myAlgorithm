{
 "cells": [
  {
   "cell_type": "code",
   "execution_count": null,
   "id": "216944ff",
   "metadata": {},
   "outputs": [],
   "source": [
    "# 704. 二分查找\n",
    "\n",
    "# 给定一个 n 个元素有序的（升序）整型数组 nums 和一个目标值 target，\n",
    "# 写一个函数搜索 nums 中的 target，如果目标值存在返回下标，否则返回 -1。\n",
    "\n",
    "# 示例 1:\n",
    "# 输入: nums = [-1,0,3,5,9,12], target = 9\n",
    "# 输出: 4\n",
    "# 解释: 9 出现在 nums 中并且下标为 4\n",
    "\n",
    "# 示例 2:\n",
    "# 输入: nums = [-1,0,3,5,9,12], target = 2\n",
    "# 输出: -1\n",
    "# 解释: 2 不存在 nums 中因此返回 -1"
   ]
  },
  {
   "cell_type": "code",
   "execution_count": 1,
   "id": "8472f877",
   "metadata": {},
   "outputs": [
    {
     "name": "stdout",
     "output_type": "stream",
     "text": [
      "left: 0\n",
      "right: 6\n",
      "mid: 3\n",
      "left: 4\n",
      "right: 6\n",
      "mid: 5\n",
      "left: 4\n",
      "right: 5\n",
      "mid: 4\n",
      "4\n",
      "left: 0\n",
      "right: 6\n",
      "mid: 3\n",
      "left: 0\n",
      "right: 3\n",
      "mid: 1\n",
      "left: 2\n",
      "right: 3\n",
      "mid: 2\n",
      "-1\n"
     ]
    }
   ],
   "source": [
    "def search(nums, target):\n",
    "    left = 0\n",
    "    right = len(nums)\n",
    "    while left < right:\n",
    "        print(f\"left: {left}\")\n",
    "        print(f\"right: {right}\")\n",
    "        mid = (left + right)//2\n",
    "        # mid = left + (right - left) //2\n",
    "        print(f\"mid: {mid}\")\n",
    "        if nums[mid] == target:\n",
    "            return mid\n",
    "        elif nums[mid] > target:\n",
    "            right = mid\n",
    "        else:\n",
    "            left = mid + 1\n",
    "    return -1\n",
    "\n",
    "nums1 = [-1,0,3,5,9,12]\n",
    "target1 = 9\n",
    "nums2 = [-1,0,3,5,9,12]\n",
    "target2 = 2\n",
    "print(search(nums1, target1))  # 输出: 4\n",
    "print(search(nums2, target2))  # 输出: -1  "
   ]
  },
  {
   "cell_type": "code",
   "execution_count": null,
   "id": "4d97281b",
   "metadata": {},
   "outputs": [],
   "source": [
    "# 35. 搜索插入位置\n",
    "\n",
    "# 给定一个排序数组和一个目标值，在数组中找到目标值，并返回其索引。\n",
    "# 如果目标值不存在于数组中，返回它将会被按顺序插入的位置。\n",
    "# 请必须使用时间复杂度为 O(log n) 的算法。\n",
    "\n",
    "# 示例 1:\n",
    "# 输入: nums = [1,3,5,6], target = 5\n",
    "# 输出: 2\n",
    "\n",
    "# 示例 2:\n",
    "# 输入: nums = [1,3,5,6], target = 2\n",
    "# 输出: 1\n",
    "\n",
    "# 示例 3:\n",
    "# 输入: nums = [1,3,5,6], target = 7\n",
    "# 输出: 4"
   ]
  },
  {
   "cell_type": "code",
   "execution_count": 3,
   "id": "3ee11df7",
   "metadata": {},
   "outputs": [
    {
     "name": "stdout",
     "output_type": "stream",
     "text": [
      "left: 0\n",
      "right: 4\n",
      "mid: 2\n"
     ]
    },
    {
     "data": {
      "text/plain": [
       "2"
      ]
     },
     "execution_count": 3,
     "metadata": {},
     "output_type": "execute_result"
    }
   ],
   "source": [
    "def search_insert(nums, target):\n",
    "    left = 0\n",
    "    right = len(nums)\n",
    "    while left < right:\n",
    "        print(f\"left: {left}\")\n",
    "        print(f\"right: {right}\")\n",
    "        mid = (left + right)//2\n",
    "        # mid = left + (right - left) //2\n",
    "        print(f\"mid: {mid}\")\n",
    "        if nums[mid] == target:\n",
    "            return mid\n",
    "        elif nums[mid] > target:\n",
    "            right = mid\n",
    "        else:\n",
    "            left = mid + 1\n",
    "    # 与上题唯一区别\n",
    "    return right\n",
    "\n",
    "nums = [1,3,5,6]\n",
    "target = 5\n",
    "search_insert(nums, target)"
   ]
  },
  {
   "cell_type": "code",
   "execution_count": null,
   "id": "862bc49d",
   "metadata": {},
   "outputs": [],
   "source": [
    "# 69. x 的平方根 \n",
    "\n",
    "# 给你一个非负整数 x，计算并返回 x 的算术平方根 。\n",
    "# 由于返回类型是整数，结果只保留整数部分 ，小数部分将被舍去 。\n",
    "\n",
    "# 注意：不允许使用任何内置指数函数和算符，例如 pow(x, 0.5) 或者 x ** 0.5 。\n",
    "\n",
    "# 示例 1：\n",
    "# 输入：x = 4\n",
    "# 输出：2\n",
    "\n",
    "# 示例 2：\n",
    "# 输入：x = 8\n",
    "# 输出：2\n",
    "# 解释：8 的算术平方根是 2.82842..., 由于返回类型是整数，小数部分将被舍去。"
   ]
  },
  {
   "cell_type": "code",
   "execution_count": 4,
   "id": "c5044e15",
   "metadata": {},
   "outputs": [
    {
     "name": "stdout",
     "output_type": "stream",
     "text": [
      "left: 0\n",
      "right: 5\n",
      "mid: 2\n",
      "2\n",
      "left: 0\n",
      "right: 9\n",
      "mid: 4\n",
      "left: 0\n",
      "right: 4\n",
      "mid: 2\n",
      "left: 2\n",
      "right: 4\n",
      "mid: 3\n",
      "2\n"
     ]
    }
   ],
   "source": [
    "def mySqrt(x):\n",
    "    left = 0\n",
    "    right = x + 1\n",
    "    while left + 1 < right:\n",
    "        print(f\"left: {left}\")\n",
    "        print(f\"right: {right}\")\n",
    "        mid = (left + right) // 2\n",
    "        print(f\"mid: {mid}\")\n",
    "        if mid * mid == x:\n",
    "            return mid\n",
    "        elif mid * mid > x:\n",
    "            right = mid\n",
    "        else:\n",
    "            left = mid\n",
    "    return left\n",
    "\n",
    "print(mySqrt(4))\n",
    "print(mySqrt(8))"
   ]
  },
  {
   "cell_type": "code",
   "execution_count": null,
   "id": "0733b2f8",
   "metadata": {},
   "outputs": [],
   "source": [
    "# 367. 有效的完全平方数\n",
    "\n",
    "# 给你一个正整数 num 。如果 num 是一个完全平方数，则返回 true ，否则返回 false 。\n",
    "# 完全平方数 是一个可以写成某个整数的平方的整数。换句话说，它可以写成某个整数和自身的乘积。\n",
    "# 不能使用任何内置的库函数，如 sqrt 。\n",
    "\n",
    "# 示例 1：\n",
    "# 输入：num = 16\n",
    "# 输出：true\n",
    "# 解释：返回 true ，因为 4 * 4 = 16 且 4 是一个整数。\n",
    "\n",
    "# 示例 2：\n",
    "# 输入：num = 14\n",
    "# 输出：false\n",
    "# 解释：返回 false ，因为 3.742 * 3.742 = 14 但 3.742 不是一个整数。"
   ]
  },
  {
   "cell_type": "code",
   "execution_count": 5,
   "id": "977f3d8d",
   "metadata": {},
   "outputs": [
    {
     "name": "stdout",
     "output_type": "stream",
     "text": [
      "left: 0\n",
      "right: 17\n",
      "mid: 8\n",
      "left: 0\n",
      "right: 8\n",
      "mid: 4\n",
      "True\n",
      "left: 0\n",
      "right: 15\n",
      "mid: 7\n",
      "left: 0\n",
      "right: 7\n",
      "mid: 3\n",
      "left: 3\n",
      "right: 7\n",
      "mid: 5\n",
      "left: 3\n",
      "right: 5\n",
      "mid: 4\n",
      "False\n"
     ]
    }
   ],
   "source": [
    "def isPerfectSquare(num: int) -> bool:\n",
    "    left = 0\n",
    "    right = num + 1\n",
    "    while left + 1 < right:\n",
    "        print(f\"left: {left}\")\n",
    "        print(f\"right: {right}\")\n",
    "        mid = (left + right) // 2\n",
    "        print(f\"mid: {mid}\")\n",
    "        if mid * mid == num:\n",
    "            # 与上题区别\n",
    "            return True\n",
    "        elif mid * mid > num:\n",
    "            right = mid\n",
    "        else:\n",
    "            left = mid\n",
    "    # 与上题区别\n",
    "    return False\n",
    "\n",
    "print(isPerfectSquare(16))\n",
    "print(isPerfectSquare(14))"
   ]
  }
 ],
 "metadata": {
  "kernelspec": {
   "display_name": "Python 3",
   "language": "python",
   "name": "python3"
  },
  "language_info": {
   "codemirror_mode": {
    "name": "ipython",
    "version": 3
   },
   "file_extension": ".py",
   "mimetype": "text/x-python",
   "name": "python",
   "nbconvert_exporter": "python",
   "pygments_lexer": "ipython3",
   "version": "3.13.1"
  }
 },
 "nbformat": 4,
 "nbformat_minor": 5
}
